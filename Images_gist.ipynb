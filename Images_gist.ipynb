{
  "nbformat": 4,
  "nbformat_minor": 0,
  "metadata": {
    "colab": {
      "name": "Untitled2.ipynb",
      "provenance": [],
      "include_colab_link": true
    },
    "kernelspec": {
      "name": "python3",
      "display_name": "Python 3"
    }
  },
  "cells": [
    {
      "cell_type": "markdown",
      "metadata": {
        "id": "view-in-github",
        "colab_type": "text"
      },
      "source": [
        "<a href=\"https://colab.research.google.com/github/kritika-srivastava/Land-Stratification-ISRO-/blob/master/Images_gist.ipynb\" target=\"_parent\"><img src=\"https://colab.research.google.com/assets/colab-badge.svg\" alt=\"Open In Colab\"/></a>"
      ]
    },
    {
      "cell_type": "code",
      "metadata": {
        "id": "tuqT-mfn4L_i",
        "colab_type": "code",
        "colab": {
          "base_uri": "https://localhost:8080/",
          "height": 129
        },
        "outputId": "42fc0877-d054-4e81-bfd3-65d679e3161e"
      },
      "source": [
        "from google.colab import drive\n",
        "drive.mount('/content/drive')"
      ],
      "execution_count": 1,
      "outputs": [
        {
          "output_type": "stream",
          "text": [
            "Go to this URL in a browser: https://accounts.google.com/o/oauth2/auth?client_id=947318989803-6bn6qk8qdgf4n4g3pfee6491hc0brc4i.apps.googleusercontent.com&redirect_uri=urn%3aietf%3awg%3aoauth%3a2.0%3aoob&response_type=code&scope=email%20https%3a%2f%2fwww.googleapis.com%2fauth%2fdocs.test%20https%3a%2f%2fwww.googleapis.com%2fauth%2fdrive%20https%3a%2f%2fwww.googleapis.com%2fauth%2fdrive.photos.readonly%20https%3a%2f%2fwww.googleapis.com%2fauth%2fpeopleapi.readonly\n",
            "\n",
            "Enter your authorization code:\n",
            "··········\n",
            "Mounted at /content/drive\n"
          ],
          "name": "stdout"
        }
      ]
    },
    {
      "cell_type": "code",
      "metadata": {
        "id": "Qxrr9eVCGHkR",
        "colab_type": "code",
        "colab": {
          "base_uri": "https://localhost:8080/",
          "height": 788
        },
        "outputId": "1055b703-fed4-40e0-825a-bb25db768b80"
      },
      "source": [
        "!unzip \"/content/drive/My Drive/Images.zip\""
      ],
      "execution_count": 2,
      "outputs": [
        {
          "output_type": "stream",
          "text": [
            "Archive:  /content/drive/My Drive/Images.zip\n",
            "   creating: Images/\n",
            "  inflating: Images/L3-NG44N09-099-053-01Dec15-BAND2.tif  \n",
            "  inflating: Images/L3-NG44N09-099-053-01Dec15-BAND3.tif  \n",
            "  inflating: Images/L3-NG44N09-099-053-01Dec15-BAND4.tif  \n",
            "  inflating: Images/L3-NG44N09-099-053-01Dec15-BAND5.tif  \n",
            "  inflating: Images/L3-NG44N09-099-053-01Nov16-BAND2.tif  \n",
            "  inflating: Images/L3-NG44N09-099-053-01Nov16-BAND3.tif  \n",
            "  inflating: Images/L3-NG44N09-099-053-01Nov16-BAND4.tif  \n",
            "  inflating: Images/L3-NG44N09-099-053-01Nov16-BAND5.tif  \n",
            "  inflating: Images/L3-NG44N09-099-053-08Nov17-BAND2.tif  \n",
            "  inflating: Images/L3-NG44N09-099-053-08Nov17-BAND3.tif  \n",
            "  inflating: Images/L3-NG44N09-099-053-08Nov17-BAND4.tif  \n",
            "  inflating: Images/L3-NG44N09-099-053-08Nov17-BAND5.tif  \n",
            "  inflating: Images/l3-ng44n09-099-053-09jan2013-band2.tif  \n",
            "  inflating: Images/l3-ng44n09-099-053-09jan2013-band3.tif  \n",
            "  inflating: Images/l3-ng44n09-099-053-09jan2013-band4.tif  \n",
            "  inflating: Images/l3-ng44n09-099-053-09jan2013-band5.tif  \n",
            "  inflating: Images/L3-NG44N09-099-053-10Apr14-BAND2.tif  \n",
            "  inflating: Images/L3-NG44N09-099-053-10Apr14-BAND3.tif  \n",
            "  inflating: Images/L3-NG44N09-099-053-10Apr14-BAND4.tif  \n",
            "  inflating: Images/L3-NG44N09-099-053-10Apr14-BAND5.tif  \n",
            "  inflating: Images/L3-NG44N09-099-053-14oct08-BAND2.tif  \n",
            "  inflating: Images/L3-NG44N09-099-053-14oct08-BAND3.tif  \n",
            "  inflating: Images/L3-NG44N09-099-053-14oct08-BAND4.tif  \n",
            "  inflating: Images/L3-NG44N09-099-053-14oct08-BAND5.tif  \n",
            "  inflating: Images/l3-ng44n09-099-053-15jan2012-BAND2.tif  \n",
            "  inflating: Images/l3-ng44n09-099-053-15jan2012-BAND3.tif  \n",
            "  inflating: Images/l3-ng44n09-099-053-15jan2012-BAND4.tif  \n",
            "  inflating: Images/l3-ng44n09-099-053-15jan2012-BAND5.tif  \n",
            "  inflating: Images/L3-NG44N09-099-053-19Oct14-BAND2.tif  \n",
            "  inflating: Images/L3-NG44N09-099-053-19Oct14-BAND3.tif  \n",
            "  inflating: Images/L3-NG44N09-099-053-19Oct14-BAND4.tif  \n",
            "  inflating: Images/L3-NG44N09-099-053-19Oct14-BAND5.tif  \n",
            "  inflating: Images/L3-NG44N09-099-053-28Jan14-BAND2.tif  \n",
            "  inflating: Images/L3-NG44N09-099-053-28Jan14-BAND3.tif  \n",
            "  inflating: Images/L3-NG44N09-099-053-28Jan14-BAND4.tif  \n",
            "  inflating: Images/L3-NG44N09-099-053-28Jan14-BAND5.tif  \n",
            "  inflating: Images/L3-NG44N09-099-053-29Apr15-BAND2.tif  \n",
            "  inflating: Images/L3-NG44N09-099-053-29Apr15-BAND3.tif  \n",
            "  inflating: Images/L3-NG44N09-099-053-29Apr15-BAND4.tif  \n",
            "  inflating: Images/L3-NG44N09-099-053-29Apr15-BAND5.tif  \n"
          ],
          "name": "stdout"
        }
      ]
    },
    {
      "cell_type": "code",
      "metadata": {
        "id": "rGkGhIOSGn77",
        "colab_type": "code",
        "colab": {}
      },
      "source": [
        "import tensorflow as tf"
      ],
      "execution_count": 0,
      "outputs": []
    },
    {
      "cell_type": "code",
      "metadata": {
        "id": "Q0BCM8U3HRPU",
        "colab_type": "code",
        "colab": {}
      },
      "source": [
        "import IPython.display as display\n",
        "from PIL import Image\n",
        "import numpy as np\n",
        "import matplotlib.pyplot as plt\n",
        "import os"
      ],
      "execution_count": 0,
      "outputs": []
    },
    {
      "cell_type": "code",
      "metadata": {
        "id": "BaB9pyQuHT9G",
        "colab_type": "code",
        "colab": {
          "base_uri": "https://localhost:8080/",
          "height": 35
        },
        "outputId": "785684c6-c064-46d6-963d-7d8bcebb2ad6"
      },
      "source": [
        "tf.__version__"
      ],
      "execution_count": 5,
      "outputs": [
        {
          "output_type": "execute_result",
          "data": {
            "text/plain": [
              "'2.2.0'"
            ]
          },
          "metadata": {
            "tags": []
          },
          "execution_count": 5
        }
      ]
    },
    {
      "cell_type": "code",
      "metadata": {
        "id": "jCgLSP0uHWTi",
        "colab_type": "code",
        "colab": {
          "base_uri": "https://localhost:8080/",
          "height": 92
        },
        "outputId": "c32ca2ce-6551-4957-d21d-202c9359a0fc"
      },
      "source": [
        "import pathlib\n",
        "data_dir = tf.keras.utils.get_file(origin='https://drive.google.com/drive/u/2/my-drive/Images.zip',\n",
        "                                         fname='Images',archive_format='auto',untar=True,file_hash='md5',extract=True,)\n",
        "data_dir = pathlib.Path(data_dir)\n",
        "data_dir"
      ],
      "execution_count": 19,
      "outputs": [
        {
          "output_type": "stream",
          "text": [
            "A local file was found, but it seems to be incomplete or outdated because the auto file hash does not match the original value of md5 so we will re-download the data.\n",
            "Downloading data from https://drive.google.com/drive/u/2/my-drive/Images.zip\n",
            "   8192/Unknown - 0s 0us/step"
          ],
          "name": "stdout"
        },
        {
          "output_type": "execute_result",
          "data": {
            "text/plain": [
              "PosixPath('/root/.keras/datasets/Images')"
            ]
          },
          "metadata": {
            "tags": []
          },
          "execution_count": 19
        }
      ]
    },
    {
      "cell_type": "code",
      "metadata": {
        "id": "mf1qsgnaHizx",
        "colab_type": "code",
        "colab": {}
      },
      "source": [
        "image=tf.convert_to_tensor('/root/.keras/datasets/Images',dtype=tf.string)"
      ],
      "execution_count": 0,
      "outputs": []
    },
    {
      "cell_type": "code",
      "metadata": {
        "id": "3csUZXJQIQWs",
        "colab_type": "code",
        "colab": {
          "base_uri": "https://localhost:8080/",
          "height": 172
        },
        "outputId": "14550b59-ab09-4bb1-b7d3-2127aaee71e6"
      },
      "source": [
        "img_contents=tf.read_file(image)"
      ],
      "execution_count": 26,
      "outputs": [
        {
          "output_type": "error",
          "ename": "AttributeError",
          "evalue": "ignored",
          "traceback": [
            "\u001b[0;31m---------------------------------------------------------------------------\u001b[0m",
            "\u001b[0;31mAttributeError\u001b[0m                            Traceback (most recent call last)",
            "\u001b[0;32m<ipython-input-26-1c5f8f6cfa48>\u001b[0m in \u001b[0;36m<module>\u001b[0;34m()\u001b[0m\n\u001b[0;32m----> 1\u001b[0;31m \u001b[0mimg_contents\u001b[0m\u001b[0;34m=\u001b[0m\u001b[0mtf\u001b[0m\u001b[0;34m.\u001b[0m\u001b[0mread_file\u001b[0m\u001b[0;34m(\u001b[0m\u001b[0mimage\u001b[0m\u001b[0;34m)\u001b[0m\u001b[0;34m\u001b[0m\u001b[0;34m\u001b[0m\u001b[0m\n\u001b[0m",
            "\u001b[0;31mAttributeError\u001b[0m: module 'tensorflow' has no attribute 'read_file'"
          ]
        }
      ]
    },
    {
      "cell_type": "code",
      "metadata": {
        "id": "2szolUeHLRHW",
        "colab_type": "code",
        "colab": {}
      },
      "source": [
        ""
      ],
      "execution_count": 0,
      "outputs": []
    }
  ]
}